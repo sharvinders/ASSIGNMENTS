{
 "cells": [
  {
   "cell_type": "code",
   "execution_count": 1,
   "id": "6b1cc3ad-ee06-4ed7-9b57-f6cd2364d9a5",
   "metadata": {},
   "outputs": [],
   "source": [
    "var = \"harvinder singh\"\n",
    "var1=\"harvinder\"\n",
    "var2= \"singh\""
   ]
  },
  {
   "cell_type": "code",
   "execution_count": 2,
   "id": "dc3ba587-d88b-448a-8533-943c7ac8e73c",
   "metadata": {},
   "outputs": [
    {
     "name": "stdout",
     "output_type": "stream",
     "text": [
      "harvinder singh\n"
     ]
    }
   ],
   "source": [
    "print (var)"
   ]
  },
  {
   "cell_type": "code",
   "execution_count": 3,
   "id": "076971e3-80e0-4fd9-8fd1-ad793a40236d",
   "metadata": {},
   "outputs": [
    {
     "name": "stdout",
     "output_type": "stream",
     "text": [
      "harvinder\n"
     ]
    }
   ],
   "source": [
    "print (var1)"
   ]
  },
  {
   "cell_type": "code",
   "execution_count": 6,
   "id": "9f14369e-4ed6-4691-93c0-e95cc790e3ed",
   "metadata": {},
   "outputs": [
    {
     "name": "stdout",
     "output_type": "stream",
     "text": [
      "singh\n"
     ]
    }
   ],
   "source": [
    "print (var2)"
   ]
  },
  {
   "cell_type": "code",
   "execution_count": 17,
   "id": "1aa2531a-4f91-4617-beef-9384e3f7b259",
   "metadata": {},
   "outputs": [],
   "source": [
    "a= \"haryana,punjab,delhi,jammu,himachal,rajsthan\""
   ]
  },
  {
   "cell_type": "code",
   "execution_count": 12,
   "id": "9dff685e-7176-4de4-bdca-a8f1ca3d9e78",
   "metadata": {},
   "outputs": [
    {
     "name": "stdout",
     "output_type": "stream",
     "text": [
      "haryana,punjab,delhi,jammu,himachal,rajsthan\n"
     ]
    }
   ],
   "source": [
    "    print (a)"
   ]
  },
  {
   "cell_type": "code",
   "execution_count": null,
   "id": "0d2a30f4-a295-40fa-8984-f38d878fcee2",
   "metadata": {},
   "outputs": [],
   "source": []
  }
 ],
 "metadata": {
  "kernelspec": {
   "display_name": "Python 3 (ipykernel)",
   "language": "python",
   "name": "python3"
  },
  "language_info": {
   "codemirror_mode": {
    "name": "ipython",
    "version": 3
   },
   "file_extension": ".py",
   "mimetype": "text/x-python",
   "name": "python",
   "nbconvert_exporter": "python",
   "pygments_lexer": "ipython3",
   "version": "3.12.4"
  }
 },
 "nbformat": 4,
 "nbformat_minor": 5
}
