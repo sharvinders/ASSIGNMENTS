{
 "cells": [
  {
   "cell_type": "code",
   "execution_count": 1,
   "id": "b174539e-2556-468c-967f-2d9114d5d0b2",
   "metadata": {},
   "outputs": [],
   "source": [
    "abc=45"
   ]
  },
  {
   "cell_type": "code",
   "execution_count": 2,
   "id": "598812e4-5503-47e1-ac24-239954ca58e4",
   "metadata": {},
   "outputs": [
    {
     "data": {
      "text/plain": [
       "45"
      ]
     },
     "execution_count": 2,
     "metadata": {},
     "output_type": "execute_result"
    }
   ],
   "source": [
    "abc"
   ]
  },
  {
   "cell_type": "code",
   "execution_count": 3,
   "id": "0f5d6805-3aa1-4f67-87d5-393c1ebf0d0e",
   "metadata": {},
   "outputs": [],
   "source": [
    "anant=30"
   ]
  },
  {
   "cell_type": "code",
   "execution_count": 4,
   "id": "a708b2c2-fa60-4d63-8cd6-512406255775",
   "metadata": {},
   "outputs": [
    {
     "data": {
      "text/plain": [
       "30"
      ]
     },
     "execution_count": 4,
     "metadata": {},
     "output_type": "execute_result"
    }
   ],
   "source": [
    "anant"
   ]
  },
  {
   "cell_type": "code",
   "execution_count": 5,
   "id": "6ad3c866-ba92-4d68-bea9-f653d98d2e39",
   "metadata": {},
   "outputs": [],
   "source": [
    "account_balance=11000"
   ]
  },
  {
   "cell_type": "code",
   "execution_count": 6,
   "id": "6ba5b6cc-b471-4cde-820d-6d684f16dbd7",
   "metadata": {},
   "outputs": [
    {
     "data": {
      "text/plain": [
       "10300"
      ]
     },
     "execution_count": 6,
     "metadata": {},
     "output_type": "execute_result"
    }
   ],
   "source": [
    "account_balance-700"
   ]
  },
  {
   "cell_type": "code",
   "execution_count": 7,
   "id": "d71cb767-1980-4b21-959a-09093d6370fb",
   "metadata": {},
   "outputs": [
    {
     "data": {
      "text/plain": [
       "16000"
      ]
     },
     "execution_count": 7,
     "metadata": {},
     "output_type": "execute_result"
    }
   ],
   "source": [
    "account_balance+5000"
   ]
  },
  {
   "cell_type": "code",
   "execution_count": 8,
   "id": "0e8d996c-91f1-47e3-a846-10f884978cc4",
   "metadata": {},
   "outputs": [],
   "source": [
    "mahesh_age=33"
   ]
  },
  {
   "cell_type": "code",
   "execution_count": 9,
   "id": "917dd1c5-9875-4c81-a269-9b2c8ebb6221",
   "metadata": {},
   "outputs": [
    {
     "data": {
      "text/plain": [
       "33"
      ]
     },
     "execution_count": 9,
     "metadata": {},
     "output_type": "execute_result"
    }
   ],
   "source": [
    "mahesh_age"
   ]
  },
  {
   "cell_type": "code",
   "execution_count": 10,
   "id": "63c367f7-7e20-4732-85a1-f98998f2240b",
   "metadata": {},
   "outputs": [],
   "source": [
    "rohit_marks=98"
   ]
  },
  {
   "cell_type": "code",
   "execution_count": 11,
   "id": "6c62f01a-e91a-47e0-92c7-661bfbee00c6",
   "metadata": {},
   "outputs": [
    {
     "data": {
      "text/plain": [
       "98"
      ]
     },
     "execution_count": 11,
     "metadata": {},
     "output_type": "execute_result"
    }
   ],
   "source": [
    "rohit_marks"
   ]
  },
  {
   "cell_type": "code",
   "execution_count": 12,
   "id": "0d21c3cf-4aa7-48de-a70d-ad7f4da386e1",
   "metadata": {},
   "outputs": [],
   "source": [
    "john_children=4"
   ]
  },
  {
   "cell_type": "code",
   "execution_count": 13,
   "id": "371e25ca-dabb-4da3-8312-94c0c29a45c0",
   "metadata": {},
   "outputs": [
    {
     "data": {
      "text/plain": [
       "4"
      ]
     },
     "execution_count": 13,
     "metadata": {},
     "output_type": "execute_result"
    }
   ],
   "source": [
    "john_children"
   ]
  },
  {
   "cell_type": "code",
   "execution_count": 22,
   "id": "d7b86b7a-84af-468d-a961-ae71a661277b",
   "metadata": {},
   "outputs": [],
   "source": [
    "prem_DOB=20101991"
   ]
  },
  {
   "cell_type": "code",
   "execution_count": 23,
   "id": "cc73a18c-7667-4e9a-9535-ed33a412bbe9",
   "metadata": {},
   "outputs": [
    {
     "data": {
      "text/plain": [
       "20101991"
      ]
     },
     "execution_count": 23,
     "metadata": {},
     "output_type": "execute_result"
    }
   ],
   "source": [
    "prem_DOB"
   ]
  }
 ],
 "metadata": {
  "kernelspec": {
   "display_name": "Python 3 (ipykernel)",
   "language": "python",
   "name": "python3"
  },
  "language_info": {
   "codemirror_mode": {
    "name": "ipython",
    "version": 3
   },
   "file_extension": ".py",
   "mimetype": "text/x-python",
   "name": "python",
   "nbconvert_exporter": "python",
   "pygments_lexer": "ipython3",
   "version": "3.12.4"
  }
 },
 "nbformat": 4,
 "nbformat_minor": 5
}
